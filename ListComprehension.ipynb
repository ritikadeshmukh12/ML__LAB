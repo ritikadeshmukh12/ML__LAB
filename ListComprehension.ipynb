{
  "nbformat": 4,
  "nbformat_minor": 0,
  "metadata": {
    "colab": {
      "provenance": [],
      "include_colab_link": true
    },
    "kernelspec": {
      "name": "python3",
      "display_name": "Python 3"
    },
    "language_info": {
      "name": "python"
    }
  },
  "cells": [
    {
      "cell_type": "markdown",
      "metadata": {
        "id": "view-in-github",
        "colab_type": "text"
      },
      "source": [
        "<a href=\"https://colab.research.google.com/github/ritikadeshmukh12/ML__LAB/blob/main/ListComprehension.ipynb\" target=\"_parent\"><img src=\"https://colab.research.google.com/assets/colab-badge.svg\" alt=\"Open In Colab\"/></a>"
      ]
    },
    {
      "cell_type": "markdown",
      "source": [
        "List comprehension offers a shorter syntax when you want to create a new list based on the values of an existing list."
      ],
      "metadata": {
        "id": "LEdw931D0xGo"
      }
    },
    {
      "cell_type": "markdown",
      "source": [],
      "metadata": {
        "id": "SK3o7SD61inH"
      }
    },
    {
      "cell_type": "markdown",
      "source": [
        "Syntax :  - newlist = [expression **for** item **in** iterable **if** condition == True]"
      ],
      "metadata": {
        "id": "Gxyttf-a103S"
      }
    },
    {
      "cell_type": "code",
      "execution_count": 1,
      "metadata": {
        "colab": {
          "base_uri": "https://localhost:8080/"
        },
        "id": "XB17YNEN0mxg",
        "outputId": "da474f02-e82f-4ee1-addf-0beb2bab57fa"
      },
      "outputs": [
        {
          "output_type": "stream",
          "name": "stdout",
          "text": [
            "['apple', 'banana', 'mango']\n"
          ]
        }
      ],
      "source": [
        "fruits = [\"apple\", \"banana\", \"cherry\", \"kiwi\", \"mango\"]\n",
        "\n",
        "newlist = [x for x in fruits if \"a\" in x]\n",
        "\n",
        "print(newlist)"
      ]
    },
    {
      "cell_type": "markdown",
      "source": [
        "Condition"
      ],
      "metadata": {
        "id": "6zbE22Pf1hew"
      }
    },
    {
      "cell_type": "code",
      "source": [
        "fruits = [\"apple\", \"banana\", \"cherry\", \"kiwi\", \"mango\"]\n",
        "\n",
        "newlist = [x for x in fruits if x != \"apple\"]\n",
        "\n",
        "print(newlist)"
      ],
      "metadata": {
        "colab": {
          "base_uri": "https://localhost:8080/"
        },
        "id": "ml-BE0Av2LoN",
        "outputId": "b7ebf6e3-1414-4a71-bb2d-d86a41e8ca1b"
      },
      "execution_count": 2,
      "outputs": [
        {
          "output_type": "stream",
          "name": "stdout",
          "text": [
            "['banana', 'cherry', 'kiwi', 'mango']\n"
          ]
        }
      ]
    },
    {
      "cell_type": "markdown",
      "source": [
        "to find square of numbers"
      ],
      "metadata": {
        "id": "S4CrfpDFo29Q"
      }
    },
    {
      "cell_type": "code",
      "source": [
        "numbers = [1,2,3,4,5]\n",
        "square_number = [num*num for num in numbers]\n",
        "print(square_number)"
      ],
      "metadata": {
        "colab": {
          "base_uri": "https://localhost:8080/"
        },
        "id": "F0w7QXDIo1e-",
        "outputId": "6cd2d447-88a7-4a5f-fa47-c6956cc4b2e2"
      },
      "execution_count": 3,
      "outputs": [
        {
          "output_type": "stream",
          "name": "stdout",
          "text": [
            "[1, 4, 9, 16, 25]\n"
          ]
        }
      ]
    },
    {
      "cell_type": "markdown",
      "source": [
        "Vowels find out"
      ],
      "metadata": {
        "id": "_kDuD7wrpbn_"
      }
    },
    {
      "cell_type": "markdown",
      "source": [],
      "metadata": {
        "id": "8nRlmPbypbj0"
      }
    },
    {
      "cell_type": "code",
      "source": [
        "word = \"Hello\"\n",
        "vowels = \"aeiou\"\n",
        "result = [char for char in word if char in vowels]\n",
        "print(result)"
      ],
      "metadata": {
        "colab": {
          "base_uri": "https://localhost:8080/"
        },
        "id": "T7G5SSl4peF4",
        "outputId": "39c300b5-db1d-4466-90ec-1a6df00a7185"
      },
      "execution_count": 4,
      "outputs": [
        {
          "output_type": "stream",
          "name": "stdout",
          "text": [
            "['e', 'o']\n"
          ]
        }
      ]
    }
  ]
}