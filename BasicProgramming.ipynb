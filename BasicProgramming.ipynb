{
  "nbformat": 4,
  "nbformat_minor": 0,
  "metadata": {
    "colab": {
      "provenance": [],
      "include_colab_link": true
    },
    "kernelspec": {
      "name": "python3",
      "display_name": "Python 3"
    },
    "language_info": {
      "name": "python"
    }
  },
  "cells": [
    {
      "cell_type": "markdown",
      "metadata": {
        "id": "view-in-github",
        "colab_type": "text"
      },
      "source": [
        "<a href=\"https://colab.research.google.com/github/ritikadeshmukh12/ML__LAB/blob/main/BasicProgramming.ipynb\" target=\"_parent\"><img src=\"https://colab.research.google.com/assets/colab-badge.svg\" alt=\"Open In Colab\"/></a>"
      ]
    },
    {
      "cell_type": "markdown",
      "source": [
        "Table"
      ],
      "metadata": {
        "id": "yp6oENLoBOpO"
      }
    },
    {
      "cell_type": "markdown",
      "source": [
        "**Printing the number of given number by using for in loop![images.jpeg](data:image/jpeg;base64,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)**"
      ],
      "metadata": {
        "id": "n_rAscgYeAjB"
      }
    },
    {
      "cell_type": "code",
      "execution_count": 1,
      "metadata": {
        "colab": {
          "base_uri": "https://localhost:8080/"
        },
        "id": "8wFnAO6V_OBz",
        "outputId": "4d4bae69-f89e-4e73-fe94-0ef42f889e0a"
      },
      "outputs": [
        {
          "output_type": "stream",
          "name": "stdout",
          "text": [
            "enter a number6\n",
            "6 X 1 = 6\n",
            "6 X 2 = 12\n",
            "6 X 3 = 18\n",
            "6 X 4 = 24\n",
            "6 X 5 = 30\n",
            "6 X 6 = 36\n",
            "6 X 7 = 42\n",
            "6 X 8 = 48\n",
            "6 X 9 = 54\n",
            "6 X 10 = 60\n"
          ]
        }
      ],
      "source": [
        "n = int(input(\"enter a number\"))\n",
        "for i in range(1,11):\n",
        "  print(n,\"X\",i,\"=\",n*i)"
      ]
    },
    {
      "cell_type": "markdown",
      "source": [
        "**appending elements in a list**"
      ],
      "metadata": {
        "id": "oW5HiPsVFE6Q"
      }
    },
    {
      "cell_type": "code",
      "source": [
        "l = [\"apple\",\"banana\",\"mango\"]\n",
        "newl=[]\n",
        "old=[]\n",
        "for i in l:\n",
        "  if 'a' in i:\n",
        "    newl.append(i)\n",
        "  else:\n",
        "    old.append(i)\n",
        "print(\"fruits are :\",l)\n",
        "print(\"new list :\",newl)\n",
        "print(\"old list :\",old)"
      ],
      "metadata": {
        "colab": {
          "base_uri": "https://localhost:8080/"
        },
        "id": "gFLxSW4NCVFd",
        "outputId": "35341557-52c7-4a25-9c49-008a98fb5391"
      },
      "execution_count": 2,
      "outputs": [
        {
          "output_type": "stream",
          "name": "stdout",
          "text": [
            "fruits are : ['apple', 'banana', 'mango']\n",
            "new list : ['apple', 'banana', 'mango']\n",
            "old list : []\n"
          ]
        }
      ]
    },
    {
      "cell_type": "markdown",
      "source": [
        "**performing operations on tuple (slicing)**"
      ],
      "metadata": {
        "id": "-6uLTEh9FBSm"
      }
    },
    {
      "cell_type": "code",
      "source": [
        "number = (1,2,3,4)\n",
        "print(number[1:])\n",
        "print(number[::-1])\n",
        "print(number[2:4])"
      ],
      "metadata": {
        "colab": {
          "base_uri": "https://localhost:8080/"
        },
        "id": "11LhsvtkEyN7",
        "outputId": "7dd53d89-65f7-486e-d072-fdfad757b59e"
      },
      "execution_count": 3,
      "outputs": [
        {
          "output_type": "stream",
          "name": "stdout",
          "text": [
            "(2, 3, 4)\n",
            "(4, 3, 2, 1)\n",
            "(3, 4)\n"
          ]
        }
      ]
    },
    {
      "cell_type": "markdown",
      "source": [
        "**Performing slicing on string data type**"
      ],
      "metadata": {
        "id": "OUat4sfeFbUG"
      }
    },
    {
      "cell_type": "code",
      "source": [],
      "metadata": {
        "id": "cA2VX5VgG0WI"
      },
      "execution_count": 3,
      "outputs": []
    },
    {
      "cell_type": "code",
      "source": [
        "str = \"ritesh \"\n",
        "print(\"previous string \",str)\n",
        "\n",
        "str1=list(str)\n",
        "str1=str[2:4]\n",
        "print(str1)"
      ],
      "metadata": {
        "colab": {
          "base_uri": "https://localhost:8080/"
        },
        "id": "preSuVj5Fh_h",
        "outputId": "1255bd51-b6aa-49df-97a6-ad849dfed1f3"
      },
      "execution_count": 4,
      "outputs": [
        {
          "output_type": "stream",
          "name": "stdout",
          "text": [
            "previous string  ritesh \n",
            "te\n"
          ]
        }
      ]
    },
    {
      "cell_type": "markdown",
      "source": [
        "**function program to call function**"
      ],
      "metadata": {
        "id": "1OtDu2MVG1RM"
      }
    },
    {
      "cell_type": "code",
      "source": [
        "def fun1(name):\n",
        "  return name.lower()\n",
        "\n",
        "def printing(call):\n",
        "  greet = call(\"RITESH\")\n",
        "  print(greet)\n",
        "\n",
        "\n",
        "printing(fun1)"
      ],
      "metadata": {
        "colab": {
          "base_uri": "https://localhost:8080/"
        },
        "id": "ooF0xt8lIhps",
        "outputId": "2891fb94-cb8c-4aad-a117-ae269edb1217"
      },
      "execution_count": 5,
      "outputs": [
        {
          "output_type": "stream",
          "name": "stdout",
          "text": [
            "ritesh\n"
          ]
        }
      ]
    },
    {
      "cell_type": "markdown",
      "source": [
        "**Implementing classes and objects by creating Animal class with two objects**"
      ],
      "metadata": {
        "id": "AwssbXw3qAe9"
      }
    },
    {
      "cell_type": "code",
      "source": [
        "class Animal:\n",
        "  category = \"animal\"\n",
        "  def __init__(self,category2,name):\n",
        "    self.category2 = category2;\n",
        "    self.name = name;\n",
        "\n",
        "Bob = Animal(\"dog\",\"bob\")\n",
        "husk = Animal(\"fox\",\"husk\")\n",
        "\n",
        "print(\"bob is a \"+Bob.category)\n",
        "print(\"specific \"+Bob.category2)\n",
        "print(\"name \"+Bob.name)\n"
      ],
      "metadata": {
        "colab": {
          "base_uri": "https://localhost:8080/"
        },
        "id": "HSorqGL5qFON",
        "outputId": "dfd3975c-e67f-4640-e02e-f98e5679fdda"
      },
      "execution_count": 6,
      "outputs": [
        {
          "output_type": "stream",
          "name": "stdout",
          "text": [
            "bob is a animal\n",
            "specific dog\n",
            "name bob\n"
          ]
        }
      ]
    },
    {
      "cell_type": "markdown",
      "source": [
        "Pandas example"
      ],
      "metadata": {
        "id": "0IOX6nVZtlHl"
      }
    },
    {
      "cell_type": "code",
      "source": [
        "import pandas as pd\n",
        "dict = {'name':[\"Smith\", \"William\", \"Phill\", \"Parker\"],\n",
        "        'age': [\"28\", \"39\", \"34\", \"36\"]}\n",
        "info = pd.DataFrame(dict, index = [True, True, False, True])\n",
        "print(info)"
      ],
      "metadata": {
        "colab": {
          "base_uri": "https://localhost:8080/"
        },
        "id": "mjIBRhn3tnsz",
        "outputId": "d85fd083-c839-4761-89cb-88c68278cce6"
      },
      "execution_count": 7,
      "outputs": [
        {
          "output_type": "stream",
          "name": "stdout",
          "text": [
            "          name age\n",
            "True     Smith  28\n",
            "True   William  39\n",
            "False    Phill  34\n",
            "True    Parker  36\n"
          ]
        }
      ]
    },
    {
      "cell_type": "markdown",
      "source": [
        "**Numpy example for printing the information of a numpy array by different properties**"
      ],
      "metadata": {
        "id": "lakf01nhuLwe"
      }
    },
    {
      "cell_type": "code",
      "source": [
        "import numpy as np\n",
        "\n",
        "arr = np.array( [[ 1, 2, 3],\n",
        "\t\t\t\t[ 4, 2, 5]] )\n",
        "\n",
        "print(\"Array is of type: \", type(arr))\n",
        "\n",
        "print(\"No. of dimensions: \", arr.ndim)\n",
        "\n",
        "print(\"Shape of array: \", arr.shape)\n",
        "\n",
        "print(\"Size of array: \", arr.size)\n",
        "\n",
        "print(\"Array stores elements of type: \", arr.dtype)\n"
      ],
      "metadata": {
        "colab": {
          "base_uri": "https://localhost:8080/"
        },
        "id": "I6SG4efiuOHJ",
        "outputId": "42a04658-fbc0-4341-f9b8-a5b4faa073ff"
      },
      "execution_count": 8,
      "outputs": [
        {
          "output_type": "stream",
          "name": "stdout",
          "text": [
            "Array is of type:  <class 'numpy.ndarray'>\n",
            "No. of dimensions:  2\n",
            "Shape of array:  (2, 3)\n",
            "Size of array:  6\n",
            "Array stores elements of type:  int64\n"
          ]
        }
      ]
    },
    {
      "cell_type": "markdown",
      "source": [
        "Matplotlib example\n"
      ],
      "metadata": {
        "id": "b2K0sb6ou3BD"
      }
    },
    {
      "cell_type": "code",
      "source": [
        "import matplotlib.pyplot as plt\n",
        "import numpy as np\n",
        "\n",
        "xpoints = np.array([1, 9])\n",
        "ypoints = np.array([3, 10])\n",
        "\n",
        "plt.plot(xpoints, ypoints)\n",
        "plt.show()"
      ],
      "metadata": {
        "colab": {
          "base_uri": "https://localhost:8080/",
          "height": 430
        },
        "id": "1P35oXbku54B",
        "outputId": "ca69e3f8-4269-4f11-fdde-acb33856926a"
      },
      "execution_count": 9,
      "outputs": [
        {
          "output_type": "display_data",
          "data": {
            "text/plain": [
              "<Figure size 640x480 with 1 Axes>"
            ],
            "image/png": "[encoded data removed]"
          },
          "metadata": {}
        }
      ]
    }
  ]
}