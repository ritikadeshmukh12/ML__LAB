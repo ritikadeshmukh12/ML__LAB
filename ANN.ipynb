{
  "nbformat": 4,
  "nbformat_minor": 0,
  "metadata": {
    "colab": {
      "provenance": [],
      "include_colab_link": true
    },
    "kernelspec": {
      "name": "python3",
      "display_name": "Python 3"
    },
    "language_info": {
      "name": "python"
    }
  },
  "cells": [
    {
      "cell_type": "markdown",
      "metadata": {
        "id": "view-in-github",
        "colab_type": "text"
      },
      "source": [
        "<a href=\"https://colab.research.google.com/github/ritikadeshmukh12/ML__LAB/blob/main/ANN.ipynb\" target=\"_parent\"><img src=\"https://colab.research.google.com/assets/colab-badge.svg\" alt=\"Open In Colab\"/></a>"
      ]
    },
    {
      "cell_type": "code",
      "source": [
        "from keras.datasets import mnist\n",
        "(train_images, train_labels), (test_images, test_labels) = mnist.load_data()\n"
      ],
      "metadata": {
        "colab": {
          "base_uri": "https://localhost:8080/"
        },
        "id": "5G0IQsRAk8sW",
        "outputId": "dc1d56eb-1c28-4e96-e66f-4763ab5bc85a"
      },
      "execution_count": 1,
      "outputs": [
        {
          "output_type": "stream",
          "name": "stdout",
          "text": [
            "Downloading data from https://storage.googleapis.com/tensorflow/tf-keras-datasets/mnist.npz\n",
            "11490434/11490434 [==============================] - 1s 0us/step\n"
          ]
        }
      ]
    },
    {
      "cell_type": "markdown",
      "source": [
        "Training Images"
      ],
      "metadata": {
        "id": "m8Hb5_W4lHtt"
      }
    },
    {
      "cell_type": "code",
      "source": [
        "train_images.shape\n",
        "len(train_labels)\n",
        "train_labels\n",
        "test_images.shape\n",
        "len(test_labels)\n",
        "test_labels\n"
      ],
      "metadata": {
        "colab": {
          "base_uri": "https://localhost:8080/"
        },
        "id": "QH9QiTvolJJl",
        "outputId": "2c2437da-b820-4f0f-f822-2795bea6543d"
      },
      "execution_count": 2,
      "outputs": [
        {
          "output_type": "execute_result",
          "data": {
            "text/plain": [
              "array([7, 2, 1, ..., 4, 5, 6], dtype=uint8)"
            ]
          },
          "metadata": {},
          "execution_count": 2
        }
      ]
    },
    {
      "cell_type": "code",
      "source": [
        "from keras import models\n",
        "from keras import layers\n",
        "network = models.Sequential()\n",
        "# Dense(32) is a fully-connected layer with 32 hidden units.\n",
        "# in the first layer, you must specify the expected input data shape :\n",
        "# here, 28 X 28=784 -dimensional vectors.\n",
        "network.add(layers.Dense(32, activation='sigmoid', input_shape=(28 * 28, )))\n",
        "network.add(layers.Dense(8, activation='sigmoid'))\n",
        "network.add(layers.Dense(10, activation='softmax'))\n",
        "network.summary()\n",
        "from google.colab import drive\n",
        "drive.mount('/content/drive')"
      ],
      "metadata": {
        "colab": {
          "base_uri": "https://localhost:8080/"
        },
        "id": "jiaDzWbelQ9t",
        "outputId": "6bfe17e7-155b-4f67-bb6a-bced6a64ae9d"
      },
      "execution_count": 3,
      "outputs": [
        {
          "output_type": "stream",
          "name": "stdout",
          "text": [
            "Model: \"sequential\"\n",
            "_________________________________________________________________\n",
            " Layer (type)                Output Shape              Param #   \n",
            "=================================================================\n",
            " dense (Dense)               (None, 32)                25120     \n",
            "                                                                 \n",
            " dense_1 (Dense)             (None, 8)                 264       \n",
            "                                                                 \n",
            " dense_2 (Dense)             (None, 10)                90        \n",
            "                                                                 \n",
            "=================================================================\n",
            "Total params: 25474 (99.51 KB)\n",
            "Trainable params: 25474 (99.51 KB)\n",
            "Non-trainable params: 0 (0.00 Byte)\n",
            "_________________________________________________________________\n",
            "Mounted at /content/drive\n"
          ]
        }
      ]
    },
    {
      "cell_type": "code",
      "source": [
        "\n",
        "network.compile(optimizer='sgd',\n",
        "                loss='categorical_crossentropy',\n",
        "                metrics=['accuracy'])"
      ],
      "metadata": {
        "id": "i_uapSFRlw23"
      },
      "execution_count": 4,
      "outputs": []
    },
    {
      "cell_type": "code",
      "source": [
        "train_images = train_images.reshape((60000, 28 * 28))\n",
        "train_images = train_images.astype('float32') / 255.\n",
        "test_images = test_images.reshape((10000, 28 * 28))\n",
        "test_images = test_images.astype('float32') / 255."
      ],
      "metadata": {
        "id": "Wdxy5cb1l0g8"
      },
      "execution_count": 5,
      "outputs": []
    },
    {
      "cell_type": "code",
      "source": [
        "from keras.utils import to_categorical\n",
        "train_labels = to_categorical(train_labels)\n",
        "train_labels\n",
        "test_labels = to_categorical(test_labels)\n",
        "test_labels"
      ],
      "metadata": {
        "colab": {
          "base_uri": "https://localhost:8080/"
        },
        "id": "Q2YWe9MUl4w0",
        "outputId": "10939d7d-3b80-48fc-e6b9-32e2c32e5a38"
      },
      "execution_count": 6,
      "outputs": [
        {
          "output_type": "execute_result",
          "data": {
            "text/plain": [
              "array([[0., 0., 0., ..., 1., 0., 0.],\n",
              "       [0., 0., 1., ..., 0., 0., 0.],\n",
              "       [0., 1., 0., ..., 0., 0., 0.],\n",
              "       ...,\n",
              "       [0., 0., 0., ..., 0., 0., 0.],\n",
              "       [0., 0., 0., ..., 0., 0., 0.],\n",
              "       [0., 0., 0., ..., 0., 0., 0.]], dtype=float32)"
            ]
          },
          "metadata": {},
          "execution_count": 6
        }
      ]
    },
    {
      "cell_type": "code",
      "source": [
        "network.fit(train_images, train_labels, epochs=160, batch_size=512)"
      ],
      "metadata": {
        "colab": {
          "base_uri": "https://localhost:8080/"
        },
        "id": "n2dJETWVl_78",
        "outputId": "10808779-8d38-4a46-b75f-29cbd5eb8c58"
      },
      "execution_count": 7,
      "outputs": [
        {
          "output_type": "stream",
          "name": "stdout",
          "text": [
            "Epoch 1/160\n",
            "118/118 [==============================] - 1s 5ms/step - loss: 2.3578 - accuracy: 0.1044\n",
            "Epoch 2/160\n",
            "118/118 [==============================] - 1s 6ms/step - loss: 2.3171 - accuracy: 0.1044\n",
            "Epoch 3/160\n",
            "118/118 [==============================] - 1s 6ms/step - loss: 2.2989 - accuracy: 0.1102\n",
            "Epoch 4/160\n",
            "118/118 [==============================] - 1s 6ms/step - loss: 2.2880 - accuracy: 0.1257\n",
            "Epoch 5/160\n",
            "118/118 [==============================] - 1s 6ms/step - loss: 2.2798 - accuracy: 0.1472\n",
            "Epoch 6/160\n",
            "118/118 [==============================] - 1s 6ms/step - loss: 2.2726 - accuracy: 0.1707\n",
            "Epoch 7/160\n",
            "118/118 [==============================] - 1s 5ms/step - loss: 2.2657 - accuracy: 0.2126\n",
            "Epoch 8/160\n",
            "118/118 [==============================] - 0s 4ms/step - loss: 2.2587 - accuracy: 0.2553\n",
            "Epoch 9/160\n",
            "118/118 [==============================] - 0s 4ms/step - loss: 2.2515 - accuracy: 0.2808\n",
            "Epoch 10/160\n",
            "118/118 [==============================] - 0s 4ms/step - loss: 2.2439 - accuracy: 0.2964\n",
            "Epoch 11/160\n",
            "118/118 [==============================] - 0s 4ms/step - loss: 2.2358 - accuracy: 0.3162\n",
            "Epoch 12/160\n",
            "118/118 [==============================] - 0s 4ms/step - loss: 2.2273 - accuracy: 0.3329\n",
            "Epoch 13/160\n",
            "118/118 [==============================] - 0s 4ms/step - loss: 2.2182 - accuracy: 0.3403\n",
            "Epoch 14/160\n",
            "118/118 [==============================] - 0s 4ms/step - loss: 2.2086 - accuracy: 0.3536\n",
            "Epoch 15/160\n",
            "118/118 [==============================] - 0s 4ms/step - loss: 2.1984 - accuracy: 0.3624\n",
            "Epoch 16/160\n",
            "118/118 [==============================] - 0s 4ms/step - loss: 2.1875 - accuracy: 0.3759\n",
            "Epoch 17/160\n",
            "118/118 [==============================] - 0s 4ms/step - loss: 2.1760 - accuracy: 0.3855\n",
            "Epoch 18/160\n",
            "118/118 [==============================] - 0s 4ms/step - loss: 2.1638 - accuracy: 0.3929\n",
            "Epoch 19/160\n",
            "118/118 [==============================] - 0s 4ms/step - loss: 2.1511 - accuracy: 0.4028\n",
            "Epoch 20/160\n",
            "118/118 [==============================] - 0s 4ms/step - loss: 2.1377 - accuracy: 0.4128\n",
            "Epoch 21/160\n",
            "118/118 [==============================] - 0s 4ms/step - loss: 2.1237 - accuracy: 0.4179\n",
            "Epoch 22/160\n",
            "118/118 [==============================] - 0s 4ms/step - loss: 2.1091 - accuracy: 0.4217\n",
            "Epoch 23/160\n",
            "118/118 [==============================] - 0s 3ms/step - loss: 2.0940 - accuracy: 0.4252\n",
            "Epoch 24/160\n",
            "118/118 [==============================] - 0s 4ms/step - loss: 2.0785 - accuracy: 0.4263\n",
            "Epoch 25/160\n",
            "118/118 [==============================] - 0s 4ms/step - loss: 2.0625 - accuracy: 0.4311\n",
            "Epoch 26/160\n",
            "118/118 [==============================] - 0s 4ms/step - loss: 2.0461 - accuracy: 0.4315\n",
            "Epoch 27/160\n",
            "118/118 [==============================] - 0s 4ms/step - loss: 2.0293 - accuracy: 0.4339\n",
            "Epoch 28/160\n",
            "118/118 [==============================] - 0s 4ms/step - loss: 2.0123 - accuracy: 0.4356\n",
            "Epoch 29/160\n",
            "118/118 [==============================] - 0s 4ms/step - loss: 1.9950 - accuracy: 0.4367\n",
            "Epoch 30/160\n",
            "118/118 [==============================] - 1s 5ms/step - loss: 1.9774 - accuracy: 0.4394\n",
            "Epoch 31/160\n",
            "118/118 [==============================] - 1s 6ms/step - loss: 1.9597 - accuracy: 0.4432\n",
            "Epoch 32/160\n",
            "118/118 [==============================] - 1s 6ms/step - loss: 1.9417 - accuracy: 0.4478\n",
            "Epoch 33/160\n",
            "118/118 [==============================] - 1s 6ms/step - loss: 1.9235 - accuracy: 0.4530\n",
            "Epoch 34/160\n",
            "118/118 [==============================] - 1s 6ms/step - loss: 1.9052 - accuracy: 0.4619\n",
            "Epoch 35/160\n",
            "118/118 [==============================] - 1s 6ms/step - loss: 1.8867 - accuracy: 0.4674\n",
            "Epoch 36/160\n",
            "118/118 [==============================] - 1s 6ms/step - loss: 1.8681 - accuracy: 0.4740\n",
            "Epoch 37/160\n",
            "118/118 [==============================] - 1s 6ms/step - loss: 1.8493 - accuracy: 0.4813\n",
            "Epoch 38/160\n",
            "118/118 [==============================] - 0s 4ms/step - loss: 1.8303 - accuracy: 0.4881\n",
            "Epoch 39/160\n",
            "118/118 [==============================] - 0s 4ms/step - loss: 1.8112 - accuracy: 0.4969\n",
            "Epoch 40/160\n",
            "118/118 [==============================] - 0s 3ms/step - loss: 1.7920 - accuracy: 0.5031\n",
            "Epoch 41/160\n",
            "118/118 [==============================] - 0s 3ms/step - loss: 1.7726 - accuracy: 0.5108\n",
            "Epoch 42/160\n",
            "118/118 [==============================] - 0s 4ms/step - loss: 1.7532 - accuracy: 0.5184\n",
            "Epoch 43/160\n",
            "118/118 [==============================] - 0s 4ms/step - loss: 1.7337 - accuracy: 0.5251\n",
            "Epoch 44/160\n",
            "118/118 [==============================] - 0s 4ms/step - loss: 1.7142 - accuracy: 0.5325\n",
            "Epoch 45/160\n",
            "118/118 [==============================] - 0s 4ms/step - loss: 1.6947 - accuracy: 0.5385\n",
            "Epoch 46/160\n",
            "118/118 [==============================] - 0s 4ms/step - loss: 1.6751 - accuracy: 0.5459\n",
            "Epoch 47/160\n",
            "118/118 [==============================] - 0s 4ms/step - loss: 1.6556 - accuracy: 0.5568\n",
            "Epoch 48/160\n",
            "118/118 [==============================] - 0s 4ms/step - loss: 1.6361 - accuracy: 0.5658\n",
            "Epoch 49/160\n",
            "118/118 [==============================] - 0s 4ms/step - loss: 1.6167 - accuracy: 0.5775\n",
            "Epoch 50/160\n",
            "118/118 [==============================] - 0s 4ms/step - loss: 1.5975 - accuracy: 0.5853\n",
            "Epoch 51/160\n",
            "118/118 [==============================] - 0s 4ms/step - loss: 1.5784 - accuracy: 0.5947\n",
            "Epoch 52/160\n",
            "118/118 [==============================] - 0s 4ms/step - loss: 1.5595 - accuracy: 0.6001\n",
            "Epoch 53/160\n",
            "118/118 [==============================] - 0s 4ms/step - loss: 1.5409 - accuracy: 0.6079\n",
            "Epoch 54/160\n",
            "118/118 [==============================] - 0s 4ms/step - loss: 1.5224 - accuracy: 0.6131\n",
            "Epoch 55/160\n",
            "118/118 [==============================] - 0s 4ms/step - loss: 1.5042 - accuracy: 0.6171\n",
            "Epoch 56/160\n",
            "118/118 [==============================] - 0s 4ms/step - loss: 1.4863 - accuracy: 0.6216\n",
            "Epoch 57/160\n",
            "118/118 [==============================] - 0s 4ms/step - loss: 1.4687 - accuracy: 0.6263\n",
            "Epoch 58/160\n",
            "118/118 [==============================] - 0s 4ms/step - loss: 1.4515 - accuracy: 0.6291\n",
            "Epoch 59/160\n",
            "118/118 [==============================] - 0s 4ms/step - loss: 1.4345 - accuracy: 0.6324\n",
            "Epoch 60/160\n",
            "118/118 [==============================] - 1s 6ms/step - loss: 1.4179 - accuracy: 0.6358\n",
            "Epoch 61/160\n",
            "118/118 [==============================] - 1s 6ms/step - loss: 1.4016 - accuracy: 0.6399\n",
            "Epoch 62/160\n",
            "118/118 [==============================] - 1s 6ms/step - loss: 1.3856 - accuracy: 0.6421\n",
            "Epoch 63/160\n",
            "118/118 [==============================] - 1s 6ms/step - loss: 1.3700 - accuracy: 0.6465\n",
            "Epoch 64/160\n",
            "118/118 [==============================] - 1s 6ms/step - loss: 1.3548 - accuracy: 0.6495\n",
            "Epoch 65/160\n",
            "118/118 [==============================] - 1s 6ms/step - loss: 1.3399 - accuracy: 0.6520\n",
            "Epoch 66/160\n",
            "118/118 [==============================] - 1s 6ms/step - loss: 1.3254 - accuracy: 0.6551\n",
            "Epoch 67/160\n",
            "118/118 [==============================] - 1s 5ms/step - loss: 1.3112 - accuracy: 0.6582\n",
            "Epoch 68/160\n",
            "118/118 [==============================] - 0s 4ms/step - loss: 1.2973 - accuracy: 0.6617\n",
            "Epoch 69/160\n",
            "118/118 [==============================] - 0s 3ms/step - loss: 1.2837 - accuracy: 0.6642\n",
            "Epoch 70/160\n",
            "118/118 [==============================] - 0s 4ms/step - loss: 1.2705 - accuracy: 0.6672\n",
            "Epoch 71/160\n",
            "118/118 [==============================] - 0s 4ms/step - loss: 1.2576 - accuracy: 0.6701\n",
            "Epoch 72/160\n",
            "118/118 [==============================] - 0s 4ms/step - loss: 1.2450 - accuracy: 0.6732\n",
            "Epoch 73/160\n",
            "118/118 [==============================] - 0s 4ms/step - loss: 1.2327 - accuracy: 0.6763\n",
            "Epoch 74/160\n",
            "118/118 [==============================] - 0s 4ms/step - loss: 1.2207 - accuracy: 0.6791\n",
            "Epoch 75/160\n",
            "118/118 [==============================] - 0s 4ms/step - loss: 1.2089 - accuracy: 0.6822\n",
            "Epoch 76/160\n",
            "118/118 [==============================] - 0s 4ms/step - loss: 1.1974 - accuracy: 0.6856\n",
            "Epoch 77/160\n",
            "118/118 [==============================] - 0s 4ms/step - loss: 1.1862 - accuracy: 0.6878\n",
            "Epoch 78/160\n",
            "118/118 [==============================] - 0s 4ms/step - loss: 1.1752 - accuracy: 0.6905\n",
            "Epoch 79/160\n",
            "118/118 [==============================] - 0s 4ms/step - loss: 1.1644 - accuracy: 0.6935\n",
            "Epoch 80/160\n",
            "118/118 [==============================] - 0s 4ms/step - loss: 1.1539 - accuracy: 0.6967\n",
            "Epoch 81/160\n",
            "118/118 [==============================] - 0s 4ms/step - loss: 1.1436 - accuracy: 0.6994\n",
            "Epoch 82/160\n",
            "118/118 [==============================] - 0s 4ms/step - loss: 1.1334 - accuracy: 0.7025\n",
            "Epoch 83/160\n",
            "118/118 [==============================] - 0s 4ms/step - loss: 1.1235 - accuracy: 0.7046\n",
            "Epoch 84/160\n",
            "118/118 [==============================] - 0s 4ms/step - loss: 1.1138 - accuracy: 0.7078\n",
            "Epoch 85/160\n",
            "118/118 [==============================] - 0s 4ms/step - loss: 1.1042 - accuracy: 0.7102\n",
            "Epoch 86/160\n",
            "118/118 [==============================] - 0s 4ms/step - loss: 1.0948 - accuracy: 0.7125\n",
            "Epoch 87/160\n",
            "118/118 [==============================] - 0s 4ms/step - loss: 1.0856 - accuracy: 0.7146\n",
            "Epoch 88/160\n",
            "118/118 [==============================] - 0s 4ms/step - loss: 1.0765 - accuracy: 0.7176\n",
            "Epoch 89/160\n",
            "118/118 [==============================] - 0s 4ms/step - loss: 1.0676 - accuracy: 0.7200\n",
            "Epoch 90/160\n",
            "118/118 [==============================] - 1s 4ms/step - loss: 1.0589 - accuracy: 0.7227\n",
            "Epoch 91/160\n",
            "118/118 [==============================] - 1s 6ms/step - loss: 1.0502 - accuracy: 0.7249\n",
            "Epoch 92/160\n",
            "118/118 [==============================] - 1s 6ms/step - loss: 1.0417 - accuracy: 0.7273\n",
            "Epoch 93/160\n",
            "118/118 [==============================] - 1s 6ms/step - loss: 1.0334 - accuracy: 0.7297\n",
            "Epoch 94/160\n",
            "118/118 [==============================] - 1s 6ms/step - loss: 1.0251 - accuracy: 0.7323\n",
            "Epoch 95/160\n",
            "118/118 [==============================] - 1s 6ms/step - loss: 1.0170 - accuracy: 0.7348\n",
            "Epoch 96/160\n",
            "118/118 [==============================] - 1s 6ms/step - loss: 1.0090 - accuracy: 0.7368\n",
            "Epoch 97/160\n",
            "118/118 [==============================] - 1s 6ms/step - loss: 1.0011 - accuracy: 0.7392\n",
            "Epoch 98/160\n",
            "118/118 [==============================] - 0s 4ms/step - loss: 0.9933 - accuracy: 0.7411\n",
            "Epoch 99/160\n",
            "118/118 [==============================] - 0s 4ms/step - loss: 0.9856 - accuracy: 0.7432\n",
            "Epoch 100/160\n",
            "118/118 [==============================] - 0s 4ms/step - loss: 0.9780 - accuracy: 0.7449\n",
            "Epoch 101/160\n",
            "118/118 [==============================] - 0s 4ms/step - loss: 0.9706 - accuracy: 0.7468\n",
            "Epoch 102/160\n",
            "118/118 [==============================] - 0s 4ms/step - loss: 0.9632 - accuracy: 0.7492\n",
            "Epoch 103/160\n",
            "118/118 [==============================] - 0s 4ms/step - loss: 0.9559 - accuracy: 0.7511\n",
            "Epoch 104/160\n",
            "118/118 [==============================] - 0s 4ms/step - loss: 0.9487 - accuracy: 0.7534\n",
            "Epoch 105/160\n",
            "118/118 [==============================] - 0s 4ms/step - loss: 0.9416 - accuracy: 0.7551\n",
            "Epoch 106/160\n",
            "118/118 [==============================] - 0s 4ms/step - loss: 0.9346 - accuracy: 0.7574\n",
            "Epoch 107/160\n",
            "118/118 [==============================] - 0s 4ms/step - loss: 0.9277 - accuracy: 0.7589\n",
            "Epoch 108/160\n",
            "118/118 [==============================] - 0s 4ms/step - loss: 0.9209 - accuracy: 0.7607\n",
            "Epoch 109/160\n",
            "118/118 [==============================] - 0s 4ms/step - loss: 0.9141 - accuracy: 0.7621\n",
            "Epoch 110/160\n",
            "118/118 [==============================] - 0s 4ms/step - loss: 0.9075 - accuracy: 0.7643\n",
            "Epoch 111/160\n",
            "118/118 [==============================] - 0s 4ms/step - loss: 0.9009 - accuracy: 0.7659\n",
            "Epoch 112/160\n",
            "118/118 [==============================] - 0s 4ms/step - loss: 0.8944 - accuracy: 0.7678\n",
            "Epoch 113/160\n",
            "118/118 [==============================] - 0s 4ms/step - loss: 0.8880 - accuracy: 0.7694\n",
            "Epoch 114/160\n",
            "118/118 [==============================] - 0s 4ms/step - loss: 0.8816 - accuracy: 0.7712\n",
            "Epoch 115/160\n",
            "118/118 [==============================] - 0s 4ms/step - loss: 0.8754 - accuracy: 0.7728\n",
            "Epoch 116/160\n",
            "118/118 [==============================] - 0s 4ms/step - loss: 0.8692 - accuracy: 0.7747\n",
            "Epoch 117/160\n",
            "118/118 [==============================] - 0s 4ms/step - loss: 0.8631 - accuracy: 0.7767\n",
            "Epoch 118/160\n",
            "118/118 [==============================] - 0s 4ms/step - loss: 0.8571 - accuracy: 0.7779\n",
            "Epoch 119/160\n",
            "118/118 [==============================] - 0s 4ms/step - loss: 0.8511 - accuracy: 0.7792\n",
            "Epoch 120/160\n",
            "118/118 [==============================] - 1s 5ms/step - loss: 0.8453 - accuracy: 0.7805\n",
            "Epoch 121/160\n",
            "118/118 [==============================] - 1s 6ms/step - loss: 0.8395 - accuracy: 0.7825\n",
            "Epoch 122/160\n",
            "118/118 [==============================] - 1s 6ms/step - loss: 0.8337 - accuracy: 0.7842\n",
            "Epoch 123/160\n",
            "118/118 [==============================] - 1s 6ms/step - loss: 0.8281 - accuracy: 0.7852\n",
            "Epoch 124/160\n",
            "118/118 [==============================] - 1s 6ms/step - loss: 0.8225 - accuracy: 0.7872\n",
            "Epoch 125/160\n",
            "118/118 [==============================] - 1s 6ms/step - loss: 0.8170 - accuracy: 0.7883\n",
            "Epoch 126/160\n",
            "118/118 [==============================] - 1s 6ms/step - loss: 0.8115 - accuracy: 0.7896\n",
            "Epoch 127/160\n",
            "118/118 [==============================] - 1s 6ms/step - loss: 0.8062 - accuracy: 0.7912\n",
            "Epoch 128/160\n",
            "118/118 [==============================] - 0s 4ms/step - loss: 0.8009 - accuracy: 0.7925\n",
            "Epoch 129/160\n",
            "118/118 [==============================] - 0s 4ms/step - loss: 0.7956 - accuracy: 0.7939\n",
            "Epoch 130/160\n",
            "118/118 [==============================] - 0s 4ms/step - loss: 0.7904 - accuracy: 0.7952\n",
            "Epoch 131/160\n",
            "118/118 [==============================] - 0s 4ms/step - loss: 0.7853 - accuracy: 0.7966\n",
            "Epoch 132/160\n",
            "118/118 [==============================] - 0s 4ms/step - loss: 0.7803 - accuracy: 0.7983\n",
            "Epoch 133/160\n",
            "118/118 [==============================] - 0s 4ms/step - loss: 0.7753 - accuracy: 0.7993\n",
            "Epoch 134/160\n",
            "118/118 [==============================] - 0s 4ms/step - loss: 0.7704 - accuracy: 0.8006\n",
            "Epoch 135/160\n",
            "118/118 [==============================] - 0s 4ms/step - loss: 0.7655 - accuracy: 0.8014\n",
            "Epoch 136/160\n",
            "118/118 [==============================] - 0s 4ms/step - loss: 0.7608 - accuracy: 0.8030\n",
            "Epoch 137/160\n",
            "118/118 [==============================] - 0s 4ms/step - loss: 0.7560 - accuracy: 0.8044\n",
            "Epoch 138/160\n",
            "118/118 [==============================] - 0s 4ms/step - loss: 0.7514 - accuracy: 0.8054\n",
            "Epoch 139/160\n",
            "118/118 [==============================] - 0s 4ms/step - loss: 0.7468 - accuracy: 0.8065\n",
            "Epoch 140/160\n",
            "118/118 [==============================] - 0s 4ms/step - loss: 0.7422 - accuracy: 0.8078\n",
            "Epoch 141/160\n",
            "118/118 [==============================] - 0s 4ms/step - loss: 0.7377 - accuracy: 0.8091\n",
            "Epoch 142/160\n",
            "118/118 [==============================] - 0s 4ms/step - loss: 0.7333 - accuracy: 0.8103\n",
            "Epoch 143/160\n",
            "118/118 [==============================] - 0s 4ms/step - loss: 0.7289 - accuracy: 0.8112\n",
            "Epoch 144/160\n",
            "118/118 [==============================] - 0s 4ms/step - loss: 0.7246 - accuracy: 0.8125\n",
            "Epoch 145/160\n",
            "118/118 [==============================] - 0s 4ms/step - loss: 0.7204 - accuracy: 0.8134\n",
            "Epoch 146/160\n",
            "118/118 [==============================] - 0s 4ms/step - loss: 0.7162 - accuracy: 0.8146\n",
            "Epoch 147/160\n",
            "118/118 [==============================] - 0s 4ms/step - loss: 0.7120 - accuracy: 0.8157\n",
            "Epoch 148/160\n",
            "118/118 [==============================] - 0s 4ms/step - loss: 0.7079 - accuracy: 0.8166\n",
            "Epoch 149/160\n",
            "118/118 [==============================] - 0s 4ms/step - loss: 0.7039 - accuracy: 0.8180\n",
            "Epoch 150/160\n",
            "118/118 [==============================] - 1s 5ms/step - loss: 0.6999 - accuracy: 0.8188\n",
            "Epoch 151/160\n",
            "118/118 [==============================] - 1s 6ms/step - loss: 0.6960 - accuracy: 0.8198\n",
            "Epoch 152/160\n",
            "118/118 [==============================] - 1s 6ms/step - loss: 0.6921 - accuracy: 0.8208\n",
            "Epoch 153/160\n",
            "118/118 [==============================] - 1s 6ms/step - loss: 0.6883 - accuracy: 0.8217\n",
            "Epoch 154/160\n",
            "118/118 [==============================] - 1s 6ms/step - loss: 0.6845 - accuracy: 0.8226\n",
            "Epoch 155/160\n",
            "118/118 [==============================] - 1s 6ms/step - loss: 0.6808 - accuracy: 0.8237\n",
            "Epoch 156/160\n",
            "118/118 [==============================] - 1s 6ms/step - loss: 0.6771 - accuracy: 0.8245\n",
            "Epoch 157/160\n",
            "118/118 [==============================] - 1s 5ms/step - loss: 0.6735 - accuracy: 0.8259\n",
            "Epoch 158/160\n",
            "118/118 [==============================] - 0s 4ms/step - loss: 0.6699 - accuracy: 0.8267\n",
            "Epoch 159/160\n",
            "118/118 [==============================] - 0s 4ms/step - loss: 0.6664 - accuracy: 0.8277\n",
            "Epoch 160/160\n",
            "118/118 [==============================] - 0s 4ms/step - loss: 0.6629 - accuracy: 0.8287\n"
          ]
        },
        {
          "output_type": "execute_result",
          "data": {
            "text/plain": [
              "<keras.src.callbacks.History at 0x7c496e17b100>"
            ]
          },
          "metadata": {},
          "execution_count": 7
        }
      ]
    },
    {
      "cell_type": "code",
      "source": [
        "\n",
        "test_loss, test_acc = network.evaluate(test_images, test_labels)\n",
        "print('Test Accuracy: {:.5f} '.format(test_acc))\n",
        "test_acc"
      ],
      "metadata": {
        "colab": {
          "base_uri": "https://localhost:8080/"
        },
        "id": "wt2sVeyWmW5Y",
        "outputId": "8ef72a82-2be1-48a6-ba2e-41f7ab4f91e6"
      },
      "execution_count": 8,
      "outputs": [
        {
          "output_type": "stream",
          "name": "stdout",
          "text": [
            "313/313 [==============================] - 1s 1ms/step - loss: 0.6456 - accuracy: 0.8347\n",
            "Test Accuracy: 0.83470 \n"
          ]
        },
        {
          "output_type": "execute_result",
          "data": {
            "text/plain": [
              "0.8346999883651733"
            ]
          },
          "metadata": {},
          "execution_count": 8
        }
      ]
    },
    {
      "cell_type": "code",
      "source": [
        "from keras.utils import plot_model\n",
        "plot_model(network, to_file='model.png')\n",
        "import matplotlib.pyplot as plt\n",
        "history =network.fit(train_images, train_labels, validation_split=0.33,epochs=5, batch_size=512)\n",
        "history_dict = history.history\n",
        "print(history_dict.keys())\n",
        "plt.plot(history.history['accuracy'])\n",
        "plt.plot(history.history['val_accuracy'])\n",
        "plt.title('Model accuracy')\n",
        "plt.ylabel('Accuracy')\n",
        "plt.xlabel('Epoch')\n",
        "plt.legend(['Train', 'Test'], loc='upper left')\n",
        "plt.show()\n",
        "\n",
        "\n",
        "# Plot training & validation loss values\n",
        "plt.plot(history.history['loss'])\n",
        "plt.plot(history.history['val_loss'])\n",
        "plt.title('Model loss')\n",
        "plt.ylabel('Loss')\n",
        "plt.xlabel('Epoch')\n",
        "plt.legend(['Train', 'Test'], loc='upper left')\n",
        "plt.show()"
      ],
      "metadata": {
        "colab": {
          "base_uri": "https://localhost:8080/",
          "height": 1000
        },
        "id": "AWrX0WTLmbDv",
        "outputId": "322a96f5-2b98-4763-9ab3-b5f8a2767586"
      },
      "execution_count": 9,
      "outputs": [
        {
          "output_type": "stream",
          "name": "stdout",
          "text": [
            "Epoch 1/5\n",
            "79/79 [==============================] - 1s 7ms/step - loss: 0.6647 - accuracy: 0.8273 - val_loss: 0.6493 - val_accuracy: 0.8338\n",
            "Epoch 2/5\n",
            "79/79 [==============================] - 1s 9ms/step - loss: 0.6623 - accuracy: 0.8281 - val_loss: 0.6472 - val_accuracy: 0.8347\n",
            "Epoch 3/5\n",
            "79/79 [==============================] - 1s 8ms/step - loss: 0.6600 - accuracy: 0.8286 - val_loss: 0.6450 - val_accuracy: 0.8352\n",
            "Epoch 4/5\n",
            "79/79 [==============================] - 1s 10ms/step - loss: 0.6577 - accuracy: 0.8291 - val_loss: 0.6429 - val_accuracy: 0.8356\n",
            "Epoch 5/5\n",
            "79/79 [==============================] - 1s 10ms/step - loss: 0.6554 - accuracy: 0.8295 - val_loss: 0.6408 - val_accuracy: 0.8363\n",
            "dict_keys(['loss', 'accuracy', 'val_loss', 'val_accuracy'])\n"
          ]
        },
        {
          "output_type": "display_data",
          "data": {
            "text/plain": [
              "<Figure size 640x480 with 1 Axes>"
            ],
            "image/png": "[encoded data removed]"
          },
          "metadata": {}
        },
        {
          "output_type": "display_data",
          "data": {
            "text/plain": [
              "<Figure size 640x480 with 1 Axes>"
            ],
            "image/png": "[encoded data removed]"
          },
          "metadata": {}
        }
      ]
    }
  ]
}